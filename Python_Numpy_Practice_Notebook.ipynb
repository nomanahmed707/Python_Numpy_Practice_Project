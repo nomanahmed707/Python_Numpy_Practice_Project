{
 "cells": [
  {
   "cell_type": "code",
   "execution_count": null,
   "id": "eaba583f",
   "metadata": {},
   "outputs": [
    {
     "name": "stdout",
     "output_type": "stream",
     "text": [
      "array is [1 2 3 4 5]\n",
      "list is [1, 2, 3, 4, 5]\n"
     ]
    }
   ],
   "source": [
    "import  numpy as np \n",
    "list = [1, 2, 3, 4, 5]\n",
    "array = np.array(list)\n",
    "print(f\"array is {array}\")\n",
    "print(f\"list is {list}\")"
   ]
  },
  {
   "cell_type": "code",
   "execution_count": 3,
   "id": "3a9fac41",
   "metadata": {},
   "outputs": [
    {
     "name": "stdout",
     "output_type": "stream",
     "text": [
      "<class 'numpy.ndarray'>\n",
      "<class 'list'>\n"
     ]
    }
   ],
   "source": [
    "print(type(array))  \n",
    "print(type(list))   "
   ]
  },
  {
   "cell_type": "code",
   "execution_count": 5,
   "id": "f665bcc7",
   "metadata": {},
   "outputs": [
    {
     "name": "stdout",
     "output_type": "stream",
     "text": [
      "multi_array is [[ 1  2  3  4  5]\n",
      " [ 6  7  8  9 10]\n",
      " [11 12 13 14 15]]\n",
      "multi_array shape is (3, 5)\n"
     ]
    }
   ],
   "source": [
    "list1 = [1, 2, 3, 4, 5]\n",
    "list2 = [6, 7, 8, 9, 10]\n",
    "list3 = [11, 12, 13, 14, 15]  # This list is not used in the multi_array example\n",
    "multi_array = np.array([list1, list2, list3])  # Only use lists of the same length\n",
    "print(f\"multi_array is {multi_array}\")\n",
    "print(f\"multi_array shape is {multi_array.shape}\")"
   ]
  },
  {
   "cell_type": "code",
   "execution_count": 6,
   "id": "28a523f1",
   "metadata": {},
   "outputs": [
    {
     "name": "stdout",
     "output_type": "stream",
     "text": [
      "the dtype of array_1 is int64\n",
      "the dtype of array_2 is float64\n"
     ]
    }
   ],
   "source": [
    "array_1 = np.array([1, 2, 3, 4, 5])\n",
    "array_2 = np.array([6.5, 7.5, 8.5, 9.5, 10.5])\n",
    "print(f\"the dtype of array_1 is {array_1.dtype}\")\n",
    "print(f\"the dtype of array_2 is {array_2.dtype}\")"
   ]
  },
  {
   "cell_type": "code",
   "execution_count": null,
   "id": "c8b064c3",
   "metadata": {},
   "outputs": [
    {
     "name": "stdout",
     "output_type": "stream",
     "text": [
      "array: ['1' '2' '3' '4' '5']\n"
     ]
    }
   ],
   "source": [
    "arr = np.array([1, 2, 3, 4, 5], dtype=\"U1\") \n",
    "print(\"array:\", arr)"
   ]
  },
  {
   "cell_type": "code",
   "execution_count": 11,
   "id": "ed3e98d2",
   "metadata": {},
   "outputs": [
    {
     "name": "stdout",
     "output_type": "stream",
     "text": [
      "fromiter() array is:  ['n' 'o' 'm' 'a' 'n' ' ' 'A' 'h' 'm' 'e' 'd']\n",
      "fromiter() array2 is:  ['A' 'l' 'i' ' ' 'K' 'h' 'a' 'n' ' ' '7' '0' '7' ' ' 'k' 'a' 'm' 'a' 'l'\n",
      " 'i' 'a']\n"
     ]
    }
   ],
   "source": [
    "students = \"noman Ahmed\"\n",
    "student2 = \"Ali Khan 707 kamalia\"\n",
    "arr = np.fromiter(students, dtype='U2')\n",
    "arr2 = np.fromiter(student2, dtype='U2')\n",
    "print(\"fromiter() array is: \", arr)\n",
    "print(\"fromiter() array2 is: \", arr2)\n"
   ]
  },
  {
   "cell_type": "code",
   "execution_count": 21,
   "id": "9ea77736",
   "metadata": {},
   "outputs": [
    {
     "name": "stdout",
     "output_type": "stream",
     "text": [
      "array_3 is [ 1.  3.  5.  7.  9. 11. 13. 15. 17. 19.] dtyps is float64\n"
     ]
    }
   ],
   "source": [
    "array_3 = np.arange(1, 20, 2, dtype=float)  # Create an array with values from 1 to 9 with a step of 2\n",
    "print(f\"array_3 is {array_3} dtyps is {array_3.dtype}\")"
   ]
  },
  {
   "cell_type": "code",
   "execution_count": 32,
   "id": "edcd8cb4",
   "metadata": {},
   "outputs": [
    {
     "name": "stdout",
     "output_type": "stream",
     "text": [
      "array_5 is [ 1.  10.5 20. ] dtyps is float64\n"
     ]
    }
   ],
   "source": [
    "array_5 = np.linspace(1, 20,3 )  # Create an array with 5 evenly spaced values between 1 and 10\n",
    "print(f\"array_5 is {array_5} dtyps is {array_5.dtype}\")"
   ]
  },
  {
   "cell_type": "code",
   "execution_count": 41,
   "id": "53f2ba26",
   "metadata": {},
   "outputs": [
    {
     "name": "stdout",
     "output_type": "stream",
     "text": [
      "[[           0            0            0]\n",
      " [           0            0            0]\n",
      " [           0            0            0]\n",
      " [           0            0            0]\n",
      " [           0            0 498222825472]]\n"
     ]
    }
   ],
   "source": [
    "array6 = np.empty((5, 3), dtype=int, order=\"f\")  # Create an empty array with shape (5, 3)\n",
    "print(array6)"
   ]
  },
  {
   "cell_type": "code",
   "execution_count": 50,
   "id": "18e1487d",
   "metadata": {},
   "outputs": [],
   "source": [
    "array7 = np.zeros((3, 4), dtype=int, order='c')  # Create an array filled with zeros with shape (3, 4)"
   ]
  },
  {
   "cell_type": "code",
   "execution_count": 51,
   "id": "481a9b00",
   "metadata": {},
   "outputs": [
    {
     "name": "stdout",
     "output_type": "stream",
     "text": [
      "array7 is [[0 0 0 0]\n",
      " [0 0 0 0]\n",
      " [0 0 0 0]] dtyps is int64\n"
     ]
    }
   ],
   "source": [
    "print(f\"array7 is {array7} dtyps is {array7.dtype}\")"
   ]
  },
  {
   "cell_type": "code",
   "execution_count": 53,
   "id": "b1b76d6c",
   "metadata": {},
   "outputs": [
    {
     "name": "stdout",
     "output_type": "stream",
     "text": [
      "array7 is [[1 1 1 1]\n",
      " [1 1 1 1]\n",
      " [1 1 1 1]] dtyps is int64\n"
     ]
    }
   ],
   "source": [
    "array7 = np.ones((3, 4), dtype=int, order=\"f\")  # Create an array filled with zeros with shape (3, 4)\n",
    "print(f\"array7 is {array7} dtyps is {array7.dtype}\")"
   ]
  },
  {
   "cell_type": "code",
   "execution_count": 55,
   "id": "9c441f4e",
   "metadata": {},
   "outputs": [
    {
     "name": "stdout",
     "output_type": "stream",
     "text": [
      "sorted array8 is [ 1  3  4  4  7  8 12]\n"
     ]
    }
   ],
   "source": [
    "array8 = [12,3,1,7,4,8,4]\n",
    "array8 = np.sort(array8)\n",
    "print(f\"sorted array8 is {array8}\")"
   ]
  },
  {
   "cell_type": "code",
   "execution_count": 56,
   "id": "2322ec4f",
   "metadata": {},
   "outputs": [
    {
     "name": "stdout",
     "output_type": "stream",
     "text": [
      "sorted array8 is [2 1 6 4 3 5 0]\n"
     ]
    }
   ],
   "source": [
    "array8 = [12,3,1,7,4,8,4]\n",
    "array8 = np.argsort(array8)\n",
    "print(f\"sorted array8 is {array8}\")"
   ]
  },
  {
   "cell_type": "code",
   "execution_count": 57,
   "id": "c73427dd",
   "metadata": {},
   "outputs": [
    {
     "name": "stdout",
     "output_type": "stream",
     "text": [
      "sorted array8 is 0\n"
     ]
    }
   ],
   "source": [
    "array8 = [12,3,1,7,4,8,4]\n",
    "array8 = np.lexsort(array8)\n",
    "print(f\"sorted array8 is {array8}\")"
   ]
  },
  {
   "cell_type": "code",
   "execution_count": 59,
   "id": "ead027e1",
   "metadata": {},
   "outputs": [
    {
     "data": {
      "text/plain": [
       "array([ 1,  2,  3,  4,  5,  6,  7,  8,  9, 10])"
      ]
     },
     "execution_count": 59,
     "metadata": {},
     "output_type": "execute_result"
    }
   ],
   "source": [
    "array1 = [1, 2, 3, 4, 5]\n",
    "array2 = [6, 7, 8, 9, 10]\n",
    "np.concatenate((array1, array2))  # Concatenate two arrays"
   ]
  },
  {
   "cell_type": "code",
   "execution_count": 60,
   "id": "eac34634",
   "metadata": {},
   "outputs": [
    {
     "data": {
      "text/plain": [
       "3"
      ]
     },
     "execution_count": 60,
     "metadata": {},
     "output_type": "execute_result"
    }
   ],
   "source": [
    "array_example = np.array([[[0, 1, 2, 3],\n",
    "                           [4, 5, 6, 7]],\n",
    "                          [[0, 1, 2, 3],\n",
    "                           [4, 5, 6, 7]],\n",
    "                          [[0 ,1 ,2, 3],\n",
    "                           [4, 5, 6, 7]]])\n",
    "array_example.ndim  # Get the number of dimensions of the array"
   ]
  },
  {
   "cell_type": "code",
   "execution_count": 61,
   "id": "729d8fc5",
   "metadata": {},
   "outputs": [
    {
     "data": {
      "text/plain": [
       "(3, 2, 4)"
      ]
     },
     "execution_count": 61,
     "metadata": {},
     "output_type": "execute_result"
    }
   ],
   "source": [
    "array_example = np.array([[[0, 1, 2, 3],\n",
    "                           [4, 5, 6, 7]],\n",
    "                          [[0, 1, 2, 3],\n",
    "                           [4, 5, 6, 7]],\n",
    "                          [[0 ,1 ,2, 3],\n",
    "                           [4, 5, 6, 7]]])\n",
    "array_example.shape  # Get the number of dimensions of the array"
   ]
  },
  {
   "cell_type": "code",
   "execution_count": 62,
   "id": "8e8c1760",
   "metadata": {},
   "outputs": [
    {
     "data": {
      "text/plain": [
       "24"
      ]
     },
     "execution_count": 62,
     "metadata": {},
     "output_type": "execute_result"
    }
   ],
   "source": [
    "array_example = np.array([[[0, 1, 2, 3],\n",
    "                           [4, 5, 6, 7]],\n",
    "                          [[0, 1, 2, 3],\n",
    "                           [4, 5, 6, 7]],\n",
    "                          [[0 ,1 ,2, 3],\n",
    "                           [4, 5, 6, 7]]])\n",
    "array_example.size  # Get the number of dimensions of the array"
   ]
  },
  {
   "cell_type": "code",
   "execution_count": 63,
   "id": "297cef2f",
   "metadata": {},
   "outputs": [
    {
     "name": "stdout",
     "output_type": "stream",
     "text": [
      "[0 1 2 3 4 5]\n"
     ]
    }
   ],
   "source": [
    "a = np.arange(6)\n",
    "print(a)"
   ]
  },
  {
   "cell_type": "code",
   "execution_count": 67,
   "id": "4dfe69c1",
   "metadata": {},
   "outputs": [
    {
     "name": "stdout",
     "output_type": "stream",
     "text": [
      "reshape_array is [[0 1 2]\n",
      " [3 4 5]]\n"
     ]
    }
   ],
   "source": [
    "reshape_array = a.reshape(2, 3)  # Reshape the array to 2 rows and 3 columns\n",
    "print(f\"reshape_array is {reshape_array}\")"
   ]
  },
  {
   "cell_type": "code",
   "execution_count": 68,
   "id": "7954462f",
   "metadata": {},
   "outputs": [
    {
     "data": {
      "text/plain": [
       "(6,)"
      ]
     },
     "execution_count": 68,
     "metadata": {},
     "output_type": "execute_result"
    }
   ],
   "source": [
    "a = np.array([1, 2, 3, 4, 5, 6])\n",
    "a.shape"
   ]
  },
  {
   "cell_type": "code",
   "execution_count": 70,
   "id": "5095b24b",
   "metadata": {},
   "outputs": [
    {
     "data": {
      "text/plain": [
       "np.int64(2)"
      ]
     },
     "execution_count": 70,
     "metadata": {},
     "output_type": "execute_result"
    }
   ],
   "source": [
    "data = np.array([1, 2, 3])\n",
    "\n",
    "data[1]"
   ]
  },
  {
   "cell_type": "code",
   "execution_count": 71,
   "id": "2ca1017b",
   "metadata": {},
   "outputs": [
    {
     "data": {
      "text/plain": [
       "array([1, 2])"
      ]
     },
     "execution_count": 71,
     "metadata": {},
     "output_type": "execute_result"
    }
   ],
   "source": [
    "\n",
    "data[0:2]\n"
   ]
  },
  {
   "cell_type": "code",
   "execution_count": 72,
   "id": "1b621619",
   "metadata": {},
   "outputs": [
    {
     "data": {
      "text/plain": [
       "array([2, 3])"
      ]
     },
     "execution_count": 72,
     "metadata": {},
     "output_type": "execute_result"
    }
   ],
   "source": [
    "\n",
    "data[1:]\n"
   ]
  },
  {
   "cell_type": "code",
   "execution_count": 74,
   "id": "2a8211af",
   "metadata": {},
   "outputs": [
    {
     "data": {
      "text/plain": [
       "np.int64(1)"
      ]
     },
     "execution_count": 74,
     "metadata": {},
     "output_type": "execute_result"
    }
   ],
   "source": [
    "array9 = np.array([1, 2, 3, 4, 5, 6])\n",
    "array9.min()"
   ]
  },
  {
   "cell_type": "code",
   "execution_count": 75,
   "id": "5249864b",
   "metadata": {},
   "outputs": [
    {
     "data": {
      "text/plain": [
       "np.int64(6)"
      ]
     },
     "execution_count": 75,
     "metadata": {},
     "output_type": "execute_result"
    }
   ],
   "source": [
    "array9 = np.array([1, 2, 3, 4, 5, 6])\n",
    "array9.max()"
   ]
  },
  {
   "cell_type": "code",
   "execution_count": 76,
   "id": "d3c200a6",
   "metadata": {},
   "outputs": [
    {
     "data": {
      "text/plain": [
       "np.int64(21)"
      ]
     },
     "execution_count": 76,
     "metadata": {},
     "output_type": "execute_result"
    }
   ],
   "source": [
    "array9 = np.array([1, 2, 3, 4, 5, 6])\n",
    "array9.sum()"
   ]
  },
  {
   "cell_type": "code",
   "execution_count": 80,
   "id": "2dcfd685",
   "metadata": {},
   "outputs": [
    {
     "data": {
      "text/plain": [
       "array([1, 2, 3, 4, 5, 6])"
      ]
     },
     "execution_count": 80,
     "metadata": {},
     "output_type": "execute_result"
    }
   ],
   "source": [
    "array9 = np.array([1, 2, 3, 4, 5, 6])\n",
    "np.unique(array9)"
   ]
  },
  {
   "cell_type": "code",
   "execution_count": 82,
   "id": "b56b83e2",
   "metadata": {},
   "outputs": [
    {
     "data": {
      "text/plain": [
       "array([[1, 2],\n",
       "       [3, 4],\n",
       "       [5, 6]])"
      ]
     },
     "execution_count": 82,
     "metadata": {},
     "output_type": "execute_result"
    }
   ],
   "source": [
    "array9 = np.array([1, 2, 3, 4, 5, 6])\n",
    "np.reshape(array9, (3, 2))  # Reshape the array to 3 rows and 2 columns"
   ]
  },
  {
   "cell_type": "code",
   "execution_count": 83,
   "id": "31fcb939",
   "metadata": {},
   "outputs": [
    {
     "data": {
      "text/plain": [
       "array([6, 5, 4, 3, 2, 1])"
      ]
     },
     "execution_count": 83,
     "metadata": {},
     "output_type": "execute_result"
    }
   ],
   "source": [
    "array9 = np.array([1, 2, 3, 4, 5, 6])\n",
    "np.flip(array9)"
   ]
  },
  {
   "cell_type": "code",
   "execution_count": 88,
   "id": "a8afb484",
   "metadata": {},
   "outputs": [
    {
     "data": {
      "text/plain": [
       "array([ 1,  2,  3,  4,  5,  6,  7,  8,  9, 10, 11, 12])"
      ]
     },
     "execution_count": 88,
     "metadata": {},
     "output_type": "execute_result"
    }
   ],
   "source": [
    "x = np.array([[1, 2, 3, 4], [5, 6, 7, 8], [9, 10, 11, 12]])\n",
    "x.flatten()"
   ]
  },
  {
   "cell_type": "code",
   "execution_count": 89,
   "id": "20bc6149",
   "metadata": {},
   "outputs": [],
   "source": [
    "np.save('my_array.npy', x)  # Save the array to a file"
   ]
  },
  {
   "cell_type": "code",
   "execution_count": 90,
   "id": "85cf1444",
   "metadata": {},
   "outputs": [],
   "source": [
    "b = np.load('my_array.npy')  # Load the array from the file"
   ]
  },
  {
   "cell_type": "code",
   "execution_count": 91,
   "id": "7efb2a92",
   "metadata": {},
   "outputs": [
    {
     "data": {
      "text/plain": [
       "array([[ 1,  2,  3,  4],\n",
       "       [ 5,  6,  7,  8],\n",
       "       [ 9, 10, 11, 12]])"
      ]
     },
     "execution_count": 91,
     "metadata": {},
     "output_type": "execute_result"
    }
   ],
   "source": [
    "b"
   ]
  },
  {
   "cell_type": "code",
   "execution_count": 92,
   "id": "19d82917",
   "metadata": {},
   "outputs": [],
   "source": [
    "csv_arr = np.array([1, 2, 3, 4, 5, 6, 7, 8])\n",
    "np.savetxt('my_array.csv', csv_arr, delimiter=',')  # Save the array to a CSV file"
   ]
  },
  {
   "cell_type": "code",
   "execution_count": 93,
   "id": "40985a94",
   "metadata": {},
   "outputs": [
    {
     "data": {
      "text/plain": [
       "array([1., 2., 3., 4., 5., 6., 7., 8.])"
      ]
     },
     "execution_count": 93,
     "metadata": {},
     "output_type": "execute_result"
    }
   ],
   "source": [
    "np.loadtxt('my_array.csv', delimiter=',')  # Load the array from the CSV file\n",
    "\n"
   ]
  }
 ],
 "metadata": {
  "kernelspec": {
   "display_name": "ml_env",
   "language": "python",
   "name": "python3"
  },
  "language_info": {
   "codemirror_mode": {
    "name": "ipython",
    "version": 3
   },
   "file_extension": ".py",
   "mimetype": "text/x-python",
   "name": "python",
   "nbconvert_exporter": "python",
   "pygments_lexer": "ipython3",
   "version": "3.13.3"
  }
 },
 "nbformat": 4,
 "nbformat_minor": 5
}
